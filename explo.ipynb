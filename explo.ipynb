{
 "cells": [
  {
   "cell_type": "code",
   "execution_count": 5,
   "metadata": {},
   "outputs": [],
   "source": [
    "####\n",
    "import superintendent #ClassLabeller\n",
    "import pandas as pd\n",
    "from IPython import display\n",
    "\n"
   ]
  },
  {
   "cell_type": "code",
   "execution_count": 1,
   "metadata": {},
   "outputs": [
    {
     "output_type": "stream",
     "name": "stdout",
     "text": "Enabling notebook extension ipyevents/extension...\n      - Validating: \u001b[32mOK\u001b[0m\n"
    }
   ],
   "source": [
    "!jupyter nbextension enable --py --sys-prefix ipyevents\n"
   ]
  },
  {
   "cell_type": "code",
   "execution_count": null,
   "metadata": {},
   "outputs": [],
   "source": [
    "\n",
    "labelling_widget = ClassLabeller(\n",
    "    features=headlines,\n",
    "    display_func=lambda x: display.display(display.Markdown(\"# \" + x)),\n",
    "    options=['professional', 'not professional'],\n",
    ")\n",
    "\n"
   ]
  },
  {
   "cell_type": "code",
   "execution_count": null,
   "metadata": {},
   "outputs": [],
   "source": [
    "labelling_widget"
   ]
  }
 ],
 "metadata": {
  "language_info": {
   "codemirror_mode": {
    "name": "ipython",
    "version": 3
   },
   "file_extension": ".py",
   "mimetype": "text/x-python",
   "name": "python",
   "nbconvert_exporter": "python",
   "pygments_lexer": "ipython3",
   "version": "3.5.4-final"
  },
  "orig_nbformat": 2,
  "kernelspec": {
   "name": "python35464bitnewenvvenv09d874da7d134ed78c755748a384407b",
   "display_name": "Python 3.5.4 64-bit ('newenv': venv)"
  }
 },
 "nbformat": 4,
 "nbformat_minor": 2
}